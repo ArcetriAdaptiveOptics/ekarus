{
 "cells": [
  {
   "cell_type": "code",
   "execution_count": null,
   "id": "d2121619",
   "metadata": {},
   "outputs": [],
   "source": [
    "import xupy as xp\n",
    "import matplotlib.pyplot as plt\n",
    "\n",
    "from ekarus.e2e.devices.alpao_deformable_mirror import ALPAODM\n",
    "from ekarus.e2e.utils.image_utils import get_circular_mask"
   ]
  }
 ],
 "metadata": {
  "language_info": {
   "name": "python"
  }
 },
 "nbformat": 4,
 "nbformat_minor": 5
}
